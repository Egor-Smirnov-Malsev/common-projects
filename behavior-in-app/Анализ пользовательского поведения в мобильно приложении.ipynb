{
 "cells": [
  {
   "cell_type": "markdown",
   "metadata": {},
   "source": [
    "# Исследование поведения пользователей в мобильном приложении для продажи продуктов питания.\n",
    "____\n",
    "\n",
    "### В данном исследовании изучается путь пользователей до покупки, а также исследуются результаты проведенного А/А/В теста.\n",
    "\n",
    "### Исследование проводится на основе собранных приложением данных о действиях пользователей.\n",
    "____\n",
    "\n",
    "### Исследование разделено на несколько частей.\n",
    "\n",
    "#### [Часть 1. Подготовка к исследованию и изучение общей информации:](#1)\n",
    "\n",
    "- [1. Импорт библиотек.](#1.1)\n",
    "- [2. Получение и изучение общей информации о данных.](#1.2)\n",
    "- [3. Функции для построения графиков.](#1.3)\n",
    "\n",
    "#### [Часть 2. Подготовка данных:](#2)\n",
    "\n",
    "- [1. Переименование столбцов и приведение данных к нужным типам.](#2.1)\n",
    "- [2. Обработка дубликатов.](#2.2)\n",
    "- [3. Нахождение и исправление ошибок.](#2.3)\n",
    "- [4. Добавление необходимых данных.](#2.4)\n",
    "\n",
    "#### [Часть 3. Изучение и обработка данных:](#3)\n",
    "\n",
    "- [1. Изучение количества качественных данных.](#3.1)\n",
    "- [2. Изучение периода времени, за который есть данные.](#3.2)\n",
    "\n",
    "#### [Часть 4. Построение и изучение воронки событий.](#4)\n",
    "\n",
    "- [1. Подготовка к построению воронки событий.](#4.1)\n",
    "- [2. Построение и изучение воронки событий.](#4.2)\n",
    "\n",
    "#### [Часть 5. Исследование результатов А/А/В теста.](#5)\n",
    "\n",
    "- [1. Подготовка к исследованию теста.](#5.1)\n",
    "- [2. Сравнение двух контрольных групп.](#5.2)\n",
    "- [3. Сравнение группы с измененным шрифтом с контрольными.](#5.3)\n",
    "\n",
    "#### [Часть 6. Вывод.](#6)"
   ]
  },
  {
   "cell_type": "markdown",
   "metadata": {},
   "source": [
    "## Часть 1. Подготовка к исследованию и изучение общей информации. <a id='1'></a>"
   ]
  },
  {
   "cell_type": "markdown",
   "metadata": {},
   "source": [
    "### 1. Импорт библиотек <a id='1.1'></a>"
   ]
  },
  {
   "cell_type": "code",
   "execution_count": 33,
   "metadata": {},
   "outputs": [],
   "source": [
    "import pandas as pd\n",
    "import seaborn as sns\n",
    "import numpy as np\n",
    "import math as mth\n",
    "import matplotlib.pyplot as plt\n",
    "import re\n",
    "from scipy import stats as st\n",
    "pd.set_option('display.max_columns', 100)\n",
    "\n",
    "import warnings\n",
    "warnings.filterwarnings('ignore')\n",
    "\n",
    "sns.set_style('darkgrid')\n",
    "\n",
    "import plotly.express as px"
   ]
  },
  {
   "cell_type": "markdown",
   "metadata": {},
   "source": [
    "### 2. Получение и изучение общей информации о данных <a id='1.2'></a>"
   ]
  },
  {
   "cell_type": "code",
   "execution_count": 34,
   "metadata": {},
   "outputs": [
    {
     "name": "stdout",
     "output_type": "stream",
     "text": [
      "<class 'pandas.core.frame.DataFrame'>\n",
      "RangeIndex: 244126 entries, 0 to 244125\n",
      "Data columns (total 4 columns):\n",
      "EventName         244126 non-null object\n",
      "DeviceIDHash      244126 non-null int64\n",
      "EventTimestamp    244126 non-null int64\n",
      "ExpId             244126 non-null int64\n",
      "dtypes: int64(3), object(1)\n",
      "memory usage: 7.5+ MB\n"
     ]
    },
    {
     "data": {
      "text/html": [
       "<div>\n",
       "<style scoped>\n",
       "    .dataframe tbody tr th:only-of-type {\n",
       "        vertical-align: middle;\n",
       "    }\n",
       "\n",
       "    .dataframe tbody tr th {\n",
       "        vertical-align: top;\n",
       "    }\n",
       "\n",
       "    .dataframe thead th {\n",
       "        text-align: right;\n",
       "    }\n",
       "</style>\n",
       "<table border=\"1\" class=\"dataframe\">\n",
       "  <thead>\n",
       "    <tr style=\"text-align: right;\">\n",
       "      <th></th>\n",
       "      <th>EventName</th>\n",
       "      <th>DeviceIDHash</th>\n",
       "      <th>EventTimestamp</th>\n",
       "      <th>ExpId</th>\n",
       "    </tr>\n",
       "  </thead>\n",
       "  <tbody>\n",
       "    <tr>\n",
       "      <td>0</td>\n",
       "      <td>MainScreenAppear</td>\n",
       "      <td>4575588528974610257</td>\n",
       "      <td>1564029816</td>\n",
       "      <td>246</td>\n",
       "    </tr>\n",
       "    <tr>\n",
       "      <td>1</td>\n",
       "      <td>MainScreenAppear</td>\n",
       "      <td>7416695313311560658</td>\n",
       "      <td>1564053102</td>\n",
       "      <td>246</td>\n",
       "    </tr>\n",
       "    <tr>\n",
       "      <td>2</td>\n",
       "      <td>PaymentScreenSuccessful</td>\n",
       "      <td>3518123091307005509</td>\n",
       "      <td>1564054127</td>\n",
       "      <td>248</td>\n",
       "    </tr>\n",
       "    <tr>\n",
       "      <td>3</td>\n",
       "      <td>CartScreenAppear</td>\n",
       "      <td>3518123091307005509</td>\n",
       "      <td>1564054127</td>\n",
       "      <td>248</td>\n",
       "    </tr>\n",
       "    <tr>\n",
       "      <td>4</td>\n",
       "      <td>PaymentScreenSuccessful</td>\n",
       "      <td>6217807653094995999</td>\n",
       "      <td>1564055322</td>\n",
       "      <td>248</td>\n",
       "    </tr>\n",
       "  </tbody>\n",
       "</table>\n",
       "</div>"
      ],
      "text/plain": [
       "                 EventName         DeviceIDHash  EventTimestamp  ExpId\n",
       "0         MainScreenAppear  4575588528974610257      1564029816    246\n",
       "1         MainScreenAppear  7416695313311560658      1564053102    246\n",
       "2  PaymentScreenSuccessful  3518123091307005509      1564054127    248\n",
       "3         CartScreenAppear  3518123091307005509      1564054127    248\n",
       "4  PaymentScreenSuccessful  6217807653094995999      1564055322    248"
      ]
     },
     "metadata": {},
     "output_type": "display_data"
    }
   ],
   "source": [
    "logs = pd.read_csv('/datasets/logs_exp.csv', sep='\\t')\n",
    "logs.info()\n",
    "display(logs.head())"
   ]
  },
  {
   "cell_type": "markdown",
   "metadata": {},
   "source": [
    "Проверим таблицу на наличие дубликатов."
   ]
  },
  {
   "cell_type": "code",
   "execution_count": 35,
   "metadata": {},
   "outputs": [
    {
     "data": {
      "text/plain": [
       "413"
      ]
     },
     "execution_count": 35,
     "metadata": {},
     "output_type": "execute_result"
    }
   ],
   "source": [
    "logs.duplicated().sum()"
   ]
  },
  {
   "cell_type": "markdown",
   "metadata": {},
   "source": [
    "### Вывод:\n",
    "1. Надо заменить названия столбцов.\n",
    "2. Надо перевести время в тип данных `datetime`.\n",
    "3. Надо разобраться с дубликатами."
   ]
  },
  {
   "cell_type": "markdown",
   "metadata": {},
   "source": [
    "### 3. Функции для построения графиков. <a id='1.3'></a>"
   ]
  },
  {
   "cell_type": "markdown",
   "metadata": {},
   "source": [
    "Гистограмма."
   ]
  },
  {
   "cell_type": "code",
   "execution_count": 36,
   "metadata": {},
   "outputs": [],
   "source": [
    "def do_hist(x, bins, title, xlabel, ylabel, density=False):\n",
    "    plt.hist(x, bins=bins, density=density)\n",
    "    plt.title(title, size='xx-large')\n",
    "    plt.xlabel(xlabel, size='x-large')\n",
    "    plt.ylabel(ylabel, size='x-large')"
   ]
  },
  {
   "cell_type": "markdown",
   "metadata": {},
   "source": [
    "Barplot."
   ]
  },
  {
   "cell_type": "code",
   "execution_count": 37,
   "metadata": {},
   "outputs": [],
   "source": [
    "def do_barplot(x, y, title, xlabel, ylabel, hue=None):\n",
    "    sns.barplot(x, y, hue=hue)\n",
    "    plt.title(title, size='xx-large')\n",
    "    plt.xlabel(xlabel, size='x-large')\n",
    "    plt.ylabel(ylabel, size='x-large')"
   ]
  },
  {
   "cell_type": "markdown",
   "metadata": {},
   "source": [
    "## Часть 2. Подготовка данных. <a id='2'></a>"
   ]
  },
  {
   "cell_type": "markdown",
   "metadata": {},
   "source": [
    "### 1. Переименование столбцов и приведение данных к нужным типам. <a id='2.1'></a>"
   ]
  },
  {
   "cell_type": "markdown",
   "metadata": {},
   "source": [
    "Переименуем столбцы."
   ]
  },
  {
   "cell_type": "code",
   "execution_count": 38,
   "metadata": {},
   "outputs": [
    {
     "name": "stdout",
     "output_type": "stream",
     "text": [
      "<class 'pandas.core.frame.DataFrame'>\n",
      "RangeIndex: 244126 entries, 0 to 244125\n",
      "Data columns (total 4 columns):\n",
      "event_name        244126 non-null object\n",
      "device_id_hash    244126 non-null int64\n",
      "event_time        244126 non-null int64\n",
      "exp_id            244126 non-null int64\n",
      "dtypes: int64(3), object(1)\n",
      "memory usage: 7.5+ MB\n"
     ]
    }
   ],
   "source": [
    "logs.columns = ['event_name', 'device_id_hash', 'event_time', 'exp_id']\n",
    "logs.info()"
   ]
  },
  {
   "cell_type": "markdown",
   "metadata": {},
   "source": [
    "Приведем дату в тип `datetime`."
   ]
  },
  {
   "cell_type": "code",
   "execution_count": 39,
   "metadata": {},
   "outputs": [
    {
     "data": {
      "text/html": [
       "<div>\n",
       "<style scoped>\n",
       "    .dataframe tbody tr th:only-of-type {\n",
       "        vertical-align: middle;\n",
       "    }\n",
       "\n",
       "    .dataframe tbody tr th {\n",
       "        vertical-align: top;\n",
       "    }\n",
       "\n",
       "    .dataframe thead th {\n",
       "        text-align: right;\n",
       "    }\n",
       "</style>\n",
       "<table border=\"1\" class=\"dataframe\">\n",
       "  <thead>\n",
       "    <tr style=\"text-align: right;\">\n",
       "      <th></th>\n",
       "      <th>event_name</th>\n",
       "      <th>device_id_hash</th>\n",
       "      <th>event_time</th>\n",
       "      <th>exp_id</th>\n",
       "    </tr>\n",
       "  </thead>\n",
       "  <tbody>\n",
       "    <tr>\n",
       "      <td>0</td>\n",
       "      <td>MainScreenAppear</td>\n",
       "      <td>4575588528974610257</td>\n",
       "      <td>2019-07-25 04:43:36</td>\n",
       "      <td>246</td>\n",
       "    </tr>\n",
       "    <tr>\n",
       "      <td>1</td>\n",
       "      <td>MainScreenAppear</td>\n",
       "      <td>7416695313311560658</td>\n",
       "      <td>2019-07-25 11:11:42</td>\n",
       "      <td>246</td>\n",
       "    </tr>\n",
       "    <tr>\n",
       "      <td>2</td>\n",
       "      <td>PaymentScreenSuccessful</td>\n",
       "      <td>3518123091307005509</td>\n",
       "      <td>2019-07-25 11:28:47</td>\n",
       "      <td>248</td>\n",
       "    </tr>\n",
       "    <tr>\n",
       "      <td>3</td>\n",
       "      <td>CartScreenAppear</td>\n",
       "      <td>3518123091307005509</td>\n",
       "      <td>2019-07-25 11:28:47</td>\n",
       "      <td>248</td>\n",
       "    </tr>\n",
       "    <tr>\n",
       "      <td>4</td>\n",
       "      <td>PaymentScreenSuccessful</td>\n",
       "      <td>6217807653094995999</td>\n",
       "      <td>2019-07-25 11:48:42</td>\n",
       "      <td>248</td>\n",
       "    </tr>\n",
       "  </tbody>\n",
       "</table>\n",
       "</div>"
      ],
      "text/plain": [
       "                event_name       device_id_hash          event_time  exp_id\n",
       "0         MainScreenAppear  4575588528974610257 2019-07-25 04:43:36     246\n",
       "1         MainScreenAppear  7416695313311560658 2019-07-25 11:11:42     246\n",
       "2  PaymentScreenSuccessful  3518123091307005509 2019-07-25 11:28:47     248\n",
       "3         CartScreenAppear  3518123091307005509 2019-07-25 11:28:47     248\n",
       "4  PaymentScreenSuccessful  6217807653094995999 2019-07-25 11:48:42     248"
      ]
     },
     "metadata": {},
     "output_type": "display_data"
    }
   ],
   "source": [
    "logs['event_time'] = pd.to_datetime(logs['event_time'], unit='s')\n",
    "display(logs.head())"
   ]
  },
  {
   "cell_type": "markdown",
   "metadata": {},
   "source": [
    "### 2. Обработка дубликатов. <a id='2.2'></a>"
   ]
  },
  {
   "cell_type": "markdown",
   "metadata": {},
   "source": [
    "Поскольку в каждой строчке есть время и id пользователя, дубликаты можно смело удалять."
   ]
  },
  {
   "cell_type": "code",
   "execution_count": 40,
   "metadata": {},
   "outputs": [
    {
     "data": {
      "text/plain": [
       "0"
      ]
     },
     "execution_count": 40,
     "metadata": {},
     "output_type": "execute_result"
    }
   ],
   "source": [
    "logs = logs.drop_duplicates().reset_index(drop=True)\n",
    "logs.duplicated().sum()"
   ]
  },
  {
   "cell_type": "markdown",
   "metadata": {},
   "source": [
    "### 3. Нахождение и исправление ошибок. <a id='2.3'></a>"
   ]
  },
  {
   "cell_type": "markdown",
   "metadata": {},
   "source": [
    "Проверим названия событий."
   ]
  },
  {
   "cell_type": "code",
   "execution_count": 41,
   "metadata": {},
   "outputs": [
    {
     "name": "stdout",
     "output_type": "stream",
     "text": [
      "['MainScreenAppear' 'PaymentScreenSuccessful' 'CartScreenAppear'\n",
      " 'OffersScreenAppear' 'Tutorial']\n"
     ]
    }
   ],
   "source": [
    "print(logs['event_name'].unique())"
   ]
  },
  {
   "cell_type": "markdown",
   "metadata": {},
   "source": [
    "С ними все хорошо."
   ]
  },
  {
   "cell_type": "markdown",
   "metadata": {},
   "source": [
    "Проверим нет ли странных дат."
   ]
  },
  {
   "cell_type": "code",
   "execution_count": 42,
   "metadata": {},
   "outputs": [
    {
     "data": {
      "text/plain": [
       "count                  243713\n",
       "unique                 176654\n",
       "top       2019-08-01 14:40:35\n",
       "freq                        9\n",
       "first     2019-07-25 04:43:36\n",
       "last      2019-08-07 21:15:17\n",
       "Name: event_time, dtype: object"
      ]
     },
     "execution_count": 42,
     "metadata": {},
     "output_type": "execute_result"
    }
   ],
   "source": [
    "logs['event_time'].describe()"
   ]
  },
  {
   "cell_type": "markdown",
   "metadata": {},
   "source": [
    "С ними все хорошо."
   ]
  },
  {
   "cell_type": "markdown",
   "metadata": {},
   "source": [
    "Проверим: нет ли неправильных id групп."
   ]
  },
  {
   "cell_type": "code",
   "execution_count": 43,
   "metadata": {},
   "outputs": [
    {
     "name": "stdout",
     "output_type": "stream",
     "text": [
      "[246 248 247]\n"
     ]
    }
   ],
   "source": [
    "print(logs['exp_id'].unique())"
   ]
  },
  {
   "cell_type": "markdown",
   "metadata": {},
   "source": [
    "Проверим: не попал ли один и тот же пользователь в разные группы."
   ]
  },
  {
   "cell_type": "code",
   "execution_count": 44,
   "metadata": {},
   "outputs": [
    {
     "name": "stdout",
     "output_type": "stream",
     "text": [
      "0\n"
     ]
    }
   ],
   "source": [
    "vis1 = set(logs[logs['exp_id']==246]['device_id_hash'])\n",
    "vis2 = set(logs[logs['exp_id']==247]['device_id_hash'])\n",
    "vis3 = set(logs[logs['exp_id']==248]['device_id_hash'])\n",
    "vis = vis1.intersection(vis2) | vis2.intersection(vis3) | vis1.intersection(vis3)\n",
    "print(len(vis))"
   ]
  },
  {
   "cell_type": "markdown",
   "metadata": {},
   "source": [
    "### 4. Добавление необходимых данных. <a id='2.4'></a>"
   ]
  },
  {
   "cell_type": "markdown",
   "metadata": {},
   "source": [
    "Добавим столбец с датой"
   ]
  },
  {
   "cell_type": "code",
   "execution_count": 45,
   "metadata": {},
   "outputs": [
    {
     "data": {
      "text/html": [
       "<div>\n",
       "<style scoped>\n",
       "    .dataframe tbody tr th:only-of-type {\n",
       "        vertical-align: middle;\n",
       "    }\n",
       "\n",
       "    .dataframe tbody tr th {\n",
       "        vertical-align: top;\n",
       "    }\n",
       "\n",
       "    .dataframe thead th {\n",
       "        text-align: right;\n",
       "    }\n",
       "</style>\n",
       "<table border=\"1\" class=\"dataframe\">\n",
       "  <thead>\n",
       "    <tr style=\"text-align: right;\">\n",
       "      <th></th>\n",
       "      <th>event_name</th>\n",
       "      <th>device_id_hash</th>\n",
       "      <th>event_time</th>\n",
       "      <th>exp_id</th>\n",
       "      <th>date</th>\n",
       "    </tr>\n",
       "  </thead>\n",
       "  <tbody>\n",
       "    <tr>\n",
       "      <td>0</td>\n",
       "      <td>MainScreenAppear</td>\n",
       "      <td>4575588528974610257</td>\n",
       "      <td>2019-07-25 04:43:36</td>\n",
       "      <td>246</td>\n",
       "      <td>2019-07-25</td>\n",
       "    </tr>\n",
       "    <tr>\n",
       "      <td>1</td>\n",
       "      <td>MainScreenAppear</td>\n",
       "      <td>7416695313311560658</td>\n",
       "      <td>2019-07-25 11:11:42</td>\n",
       "      <td>246</td>\n",
       "      <td>2019-07-25</td>\n",
       "    </tr>\n",
       "    <tr>\n",
       "      <td>2</td>\n",
       "      <td>PaymentScreenSuccessful</td>\n",
       "      <td>3518123091307005509</td>\n",
       "      <td>2019-07-25 11:28:47</td>\n",
       "      <td>248</td>\n",
       "      <td>2019-07-25</td>\n",
       "    </tr>\n",
       "    <tr>\n",
       "      <td>3</td>\n",
       "      <td>CartScreenAppear</td>\n",
       "      <td>3518123091307005509</td>\n",
       "      <td>2019-07-25 11:28:47</td>\n",
       "      <td>248</td>\n",
       "      <td>2019-07-25</td>\n",
       "    </tr>\n",
       "    <tr>\n",
       "      <td>4</td>\n",
       "      <td>PaymentScreenSuccessful</td>\n",
       "      <td>6217807653094995999</td>\n",
       "      <td>2019-07-25 11:48:42</td>\n",
       "      <td>248</td>\n",
       "      <td>2019-07-25</td>\n",
       "    </tr>\n",
       "  </tbody>\n",
       "</table>\n",
       "</div>"
      ],
      "text/plain": [
       "                event_name       device_id_hash          event_time  exp_id  \\\n",
       "0         MainScreenAppear  4575588528974610257 2019-07-25 04:43:36     246   \n",
       "1         MainScreenAppear  7416695313311560658 2019-07-25 11:11:42     246   \n",
       "2  PaymentScreenSuccessful  3518123091307005509 2019-07-25 11:28:47     248   \n",
       "3         CartScreenAppear  3518123091307005509 2019-07-25 11:28:47     248   \n",
       "4  PaymentScreenSuccessful  6217807653094995999 2019-07-25 11:48:42     248   \n",
       "\n",
       "         date  \n",
       "0  2019-07-25  \n",
       "1  2019-07-25  \n",
       "2  2019-07-25  \n",
       "3  2019-07-25  \n",
       "4  2019-07-25  "
      ]
     },
     "metadata": {},
     "output_type": "display_data"
    }
   ],
   "source": [
    "logs['date'] = logs['event_time'].dt.date\n",
    "display(logs.head())"
   ]
  },
  {
   "cell_type": "markdown",
   "metadata": {},
   "source": [
    "## Часть 3. Изучение и обработка данных. <a id='3'></a>"
   ]
  },
  {
   "cell_type": "markdown",
   "metadata": {},
   "source": [
    "### 1. Изучение количества качественных данных. <a id='3.1'></a>"
   ]
  },
  {
   "cell_type": "code",
   "execution_count": 46,
   "metadata": {},
   "outputs": [
    {
     "name": "stdout",
     "output_type": "stream",
     "text": [
      "Количество событий: 243713. Из них различных видов событий: 5.\n",
      "Количество различных пользователей: 7551. В среднем на одного пользователя приходится: 32.28 событий.\n"
     ]
    }
   ],
   "source": [
    "unique_logs_number = len(logs['event_name'].unique())\n",
    "logs_number = len(logs)\n",
    "users_number = len(logs['device_id_hash'].unique())\n",
    "logs_by_user = logs_number / users_number\n",
    "print('Количество событий: {}.'.format(logs_number), 'Из них различных видов событий: {}.'.format(unique_logs_number))\n",
    "print('Количество различных пользователей: {}.'.format(users_number), \n",
    "      'В среднем на одного пользователя приходится: {:.2f} событий.'.format(logs_by_user))"
   ]
  },
  {
   "cell_type": "markdown",
   "metadata": {},
   "source": [
    "### 2. Изучение периода времени, за который есть данные. <a id='3.2'></a>"
   ]
  },
  {
   "cell_type": "code",
   "execution_count": 47,
   "metadata": {},
   "outputs": [
    {
     "data": {
      "text/plain": [
       "count                  243713\n",
       "unique                 176654\n",
       "top       2019-08-01 14:40:35\n",
       "freq                        9\n",
       "first     2019-07-25 04:43:36\n",
       "last      2019-08-07 21:15:17\n",
       "Name: event_time, dtype: object"
      ]
     },
     "execution_count": 47,
     "metadata": {},
     "output_type": "execute_result"
    }
   ],
   "source": [
    "logs['event_time'].describe()"
   ]
  },
  {
   "cell_type": "markdown",
   "metadata": {},
   "source": [
    "Мы распологаем данными с 25 июня по 7 августа 2019 года. \n",
    "\n",
    "Посмотрим как наши данные распределены по времени"
   ]
  },
  {
   "cell_type": "code",
   "execution_count": 48,
   "metadata": {},
   "outputs": [
    {
     "data": {
      "image/png": "[encoded data removed]",
      "text/plain": [
       "<Figure size 1440x504 with 1 Axes>"
      ]
     },
     "metadata": {},
     "output_type": "display_data"
    }
   ],
   "source": [
    "plt.rcParams['figure.figsize']=(20, 7)\n",
    "do_hist(x=logs['event_time'], bins=40, xlabel='Время', ylabel='Количество данных', title='Распределение известных событий по времени')"
   ]
  },
  {
   "cell_type": "markdown",
   "metadata": {},
   "source": [
    "На самом деле у нас есть полные данные только 1 августа 2019 года по 8 августа 2019 года.\n",
    "\n",
    "Более старые данные удалим, чтобы они не загрязняли результаты. Проверим, сколько событий и посетителей мы из-за этого потеряли."
   ]
  },
  {
   "cell_type": "code",
   "execution_count": 49,
   "metadata": {},
   "outputs": [
    {
     "name": "stdout",
     "output_type": "stream",
     "text": [
      "Мы потеряли: 1.2% событий и 0.2% пользователей.\n"
     ]
    }
   ],
   "source": [
    "logs = logs[logs['event_time'] >= '2019-08-01']\n",
    "good_logs_number = len(logs)\n",
    "good_users_number = len(logs['device_id_hash'].unique())\n",
    "print('Мы потеряли: {:.1%} событий и {:.1%} пользователей.'.format(1 - good_logs_number/logs_number, 1 - good_users_number/users_number))"
   ]
  },
  {
   "cell_type": "markdown",
   "metadata": {},
   "source": [
    "## Часть 4. Построение и изучение воронки событий. <a id='4'></a>"
   ]
  },
  {
   "cell_type": "markdown",
   "metadata": {},
   "source": [
    "### 1. Подготовка к построению воронки событий. <a id='4.1'></a>"
   ]
  },
  {
   "cell_type": "markdown",
   "metadata": {},
   "source": [
    "Посмотрим как часто встречаются различные виды событий."
   ]
  },
  {
   "cell_type": "code",
   "execution_count": 50,
   "metadata": {},
   "outputs": [
    {
     "data": {
      "image/png": "[encoded data removed]",
      "text/plain": [
       "<Figure size 1440x504 with 1 Axes>"
      ]
     },
     "metadata": {},
     "output_type": "display_data"
    }
   ],
   "source": [
    "logs_frequency = logs.groupby('event_name').agg({'exp_id': 'count', 'device_id_hash': pd.Series.nunique}).sort_values(by='exp_id', ascending=False)\n",
    "logs_frequency.columns = ['n_events', 'n_users']\n",
    "do_barplot(x=logs_frequency.index, y=logs_frequency['n_events'], \n",
    "           title='Количество зафиксированных событий каждого типа.', \n",
    "           xlabel='Тип события', ylabel='Количество событий')"
   ]
  },
  {
   "cell_type": "markdown",
   "metadata": {},
   "source": [
    "Посмотрим какая пользователей совершают каждый из типов событий."
   ]
  },
  {
   "cell_type": "code",
   "execution_count": 51,
   "metadata": {},
   "outputs": [
    {
     "data": {
      "text/html": [
       "<div>\n",
       "<style scoped>\n",
       "    .dataframe tbody tr th:only-of-type {\n",
       "        vertical-align: middle;\n",
       "    }\n",
       "\n",
       "    .dataframe tbody tr th {\n",
       "        vertical-align: top;\n",
       "    }\n",
       "\n",
       "    .dataframe thead th {\n",
       "        text-align: right;\n",
       "    }\n",
       "</style>\n",
       "<table border=\"1\" class=\"dataframe\">\n",
       "  <thead>\n",
       "    <tr style=\"text-align: right;\">\n",
       "      <th></th>\n",
       "      <th>n_events</th>\n",
       "      <th>n_users</th>\n",
       "      <th>users_proportion</th>\n",
       "    </tr>\n",
       "    <tr>\n",
       "      <th>event_name</th>\n",
       "      <th></th>\n",
       "      <th></th>\n",
       "      <th></th>\n",
       "    </tr>\n",
       "  </thead>\n",
       "  <tbody>\n",
       "    <tr>\n",
       "      <td>MainScreenAppear</td>\n",
       "      <td>117328</td>\n",
       "      <td>7419</td>\n",
       "      <td>0.984736</td>\n",
       "    </tr>\n",
       "    <tr>\n",
       "      <td>OffersScreenAppear</td>\n",
       "      <td>46333</td>\n",
       "      <td>4593</td>\n",
       "      <td>0.609636</td>\n",
       "    </tr>\n",
       "    <tr>\n",
       "      <td>CartScreenAppear</td>\n",
       "      <td>42303</td>\n",
       "      <td>3734</td>\n",
       "      <td>0.495620</td>\n",
       "    </tr>\n",
       "    <tr>\n",
       "      <td>PaymentScreenSuccessful</td>\n",
       "      <td>33918</td>\n",
       "      <td>3539</td>\n",
       "      <td>0.469737</td>\n",
       "    </tr>\n",
       "    <tr>\n",
       "      <td>Tutorial</td>\n",
       "      <td>1005</td>\n",
       "      <td>840</td>\n",
       "      <td>0.111495</td>\n",
       "    </tr>\n",
       "  </tbody>\n",
       "</table>\n",
       "</div>"
      ],
      "text/plain": [
       "                         n_events  n_users  users_proportion\n",
       "event_name                                                  \n",
       "MainScreenAppear           117328     7419          0.984736\n",
       "OffersScreenAppear          46333     4593          0.609636\n",
       "CartScreenAppear            42303     3734          0.495620\n",
       "PaymentScreenSuccessful     33918     3539          0.469737\n",
       "Tutorial                     1005      840          0.111495"
      ]
     },
     "metadata": {},
     "output_type": "display_data"
    },
    {
     "data": {
      "image/png": "[encoded data removed]",
      "text/plain": [
       "<Figure size 1440x504 with 1 Axes>"
      ]
     },
     "metadata": {},
     "output_type": "display_data"
    }
   ],
   "source": [
    "logs_frequency['users_proportion'] = logs_frequency['n_users'] / good_users_number\n",
    "logs_frequency = logs_frequency.sort_values(by='users_proportion', ascending=False)\n",
    "do_barplot(x=logs_frequency.index, y=logs_frequency['users_proportion'], \n",
    "           title='Часть пользователей, поучаствовавшая в каждом из типов событий.', \n",
    "           xlabel='Тип события', ylabel='Часть пользователей')\n",
    "display(logs_frequency)"
   ]
  },
  {
   "cell_type": "markdown",
   "metadata": {},
   "source": [
    "Вывод:\n",
    "1. И по частоте событий и по доле посетителей, участвовавших в событии различные типы событий сортируются одинаково: чаще всего пользователи видят главный экран, значительно реже экран товара, еще реже корзину, еще реже экран, подтверждающий успешность покупки и реже всего - обучение.\n",
    "2. При использовании приложения пользователи чаще всего начинают с главного экрана, потом экран товара, потом экран корзины и потом экран, подтверждающий успешность покупки. Обучение многие игнорируют, поэтому его, при построении воронки, учитывать не будем."
   ]
  },
  {
   "cell_type": "markdown",
   "metadata": {},
   "source": [
    "### 2. Построение и изучение воронки событий. <a id='4.2'></a>"
   ]
  },
  {
   "cell_type": "markdown",
   "metadata": {},
   "source": [
    "Для пользователей посчитаем время первого срабатывания каждого события."
   ]
  },
  {
   "cell_type": "code",
   "execution_count": 52,
   "metadata": {},
   "outputs": [
    {
     "data": {
      "text/html": [
       "<div>\n",
       "<style scoped>\n",
       "    .dataframe tbody tr th:only-of-type {\n",
       "        vertical-align: middle;\n",
       "    }\n",
       "\n",
       "    .dataframe tbody tr th {\n",
       "        vertical-align: top;\n",
       "    }\n",
       "\n",
       "    .dataframe thead th {\n",
       "        text-align: right;\n",
       "    }\n",
       "</style>\n",
       "<table border=\"1\" class=\"dataframe\">\n",
       "  <thead>\n",
       "    <tr style=\"text-align: right;\">\n",
       "      <th>event_name</th>\n",
       "      <th>CartScreenAppear</th>\n",
       "      <th>MainScreenAppear</th>\n",
       "      <th>OffersScreenAppear</th>\n",
       "      <th>PaymentScreenSuccessful</th>\n",
       "      <th>Tutorial</th>\n",
       "    </tr>\n",
       "    <tr>\n",
       "      <th>device_id_hash</th>\n",
       "      <th></th>\n",
       "      <th></th>\n",
       "      <th></th>\n",
       "      <th></th>\n",
       "      <th></th>\n",
       "    </tr>\n",
       "  </thead>\n",
       "  <tbody>\n",
       "    <tr>\n",
       "      <td>6888746892508752</td>\n",
       "      <td>NaT</td>\n",
       "      <td>2019-08-06 14:06:34</td>\n",
       "      <td>NaT</td>\n",
       "      <td>NaT</td>\n",
       "      <td>NaT</td>\n",
       "    </tr>\n",
       "    <tr>\n",
       "      <td>6909561520679493</td>\n",
       "      <td>2019-08-06 18:52:58</td>\n",
       "      <td>2019-08-06 18:52:54</td>\n",
       "      <td>2019-08-06 18:53:04</td>\n",
       "      <td>2019-08-06 18:52:58</td>\n",
       "      <td>NaT</td>\n",
       "    </tr>\n",
       "    <tr>\n",
       "      <td>6922444491712477</td>\n",
       "      <td>2019-08-04 14:19:40</td>\n",
       "      <td>2019-08-04 14:19:33</td>\n",
       "      <td>2019-08-04 14:19:46</td>\n",
       "      <td>2019-08-04 14:19:40</td>\n",
       "      <td>NaT</td>\n",
       "    </tr>\n",
       "    <tr>\n",
       "      <td>7435777799948366</td>\n",
       "      <td>NaT</td>\n",
       "      <td>2019-08-05 08:06:34</td>\n",
       "      <td>NaT</td>\n",
       "      <td>NaT</td>\n",
       "      <td>NaT</td>\n",
       "    </tr>\n",
       "    <tr>\n",
       "      <td>7702139951469979</td>\n",
       "      <td>2019-08-02 14:28:45</td>\n",
       "      <td>2019-08-01 04:29:54</td>\n",
       "      <td>2019-08-01 04:29:56</td>\n",
       "      <td>2019-08-02 14:28:45</td>\n",
       "      <td>NaT</td>\n",
       "    </tr>\n",
       "  </tbody>\n",
       "</table>\n",
       "</div>"
      ],
      "text/plain": [
       "event_name          CartScreenAppear    MainScreenAppear  OffersScreenAppear  \\\n",
       "device_id_hash                                                                 \n",
       "6888746892508752                 NaT 2019-08-06 14:06:34                 NaT   \n",
       "6909561520679493 2019-08-06 18:52:58 2019-08-06 18:52:54 2019-08-06 18:53:04   \n",
       "6922444491712477 2019-08-04 14:19:40 2019-08-04 14:19:33 2019-08-04 14:19:46   \n",
       "7435777799948366                 NaT 2019-08-05 08:06:34                 NaT   \n",
       "7702139951469979 2019-08-02 14:28:45 2019-08-01 04:29:54 2019-08-01 04:29:56   \n",
       "\n",
       "event_name       PaymentScreenSuccessful Tutorial  \n",
       "device_id_hash                                     \n",
       "6888746892508752                     NaT      NaT  \n",
       "6909561520679493     2019-08-06 18:52:58      NaT  \n",
       "6922444491712477     2019-08-04 14:19:40      NaT  \n",
       "7435777799948366                     NaT      NaT  \n",
       "7702139951469979     2019-08-02 14:28:45      NaT  "
      ]
     },
     "metadata": {},
     "output_type": "display_data"
    }
   ],
   "source": [
    "user_first_event_time = logs.pivot_table(index='device_id_hash', columns='event_name', values='event_time', aggfunc='min')\n",
    "display(user_first_event_time.head())"
   ]
  },
  {
   "cell_type": "markdown",
   "metadata": {},
   "source": [
    "Построим воронку."
   ]
  },
  {
   "cell_type": "code",
   "execution_count": 53,
   "metadata": {},
   "outputs": [
    {
     "data": {
      "text/html": [
       "<div>\n",
       "<style scoped>\n",
       "    .dataframe tbody tr th:only-of-type {\n",
       "        vertical-align: middle;\n",
       "    }\n",
       "\n",
       "    .dataframe tbody tr th {\n",
       "        vertical-align: top;\n",
       "    }\n",
       "\n",
       "    .dataframe thead th {\n",
       "        text-align: right;\n",
       "    }\n",
       "</style>\n",
       "<table border=\"1\" class=\"dataframe\">\n",
       "  <thead>\n",
       "    <tr style=\"text-align: right;\">\n",
       "      <th></th>\n",
       "      <th>Шаг</th>\n",
       "      <th>Количество пользователей</th>\n",
       "      <th>Доля пользователей от общего числа</th>\n",
       "      <th>Доля пользователей от прошлого шага</th>\n",
       "    </tr>\n",
       "  </thead>\n",
       "  <tbody>\n",
       "    <tr>\n",
       "      <td>0</td>\n",
       "      <td>посещение главного экрана</td>\n",
       "      <td>7419</td>\n",
       "      <td>0.984736</td>\n",
       "      <td>1.000000</td>\n",
       "    </tr>\n",
       "    <tr>\n",
       "      <td>1</td>\n",
       "      <td>посещение экрана товара</td>\n",
       "      <td>4593</td>\n",
       "      <td>0.609636</td>\n",
       "      <td>0.619086</td>\n",
       "    </tr>\n",
       "    <tr>\n",
       "      <td>2</td>\n",
       "      <td>посещение корзины</td>\n",
       "      <td>3734</td>\n",
       "      <td>0.495620</td>\n",
       "      <td>0.812976</td>\n",
       "    </tr>\n",
       "    <tr>\n",
       "      <td>3</td>\n",
       "      <td>экран успешной оплаты</td>\n",
       "      <td>3539</td>\n",
       "      <td>0.469737</td>\n",
       "      <td>0.947777</td>\n",
       "    </tr>\n",
       "  </tbody>\n",
       "</table>\n",
       "</div>"
      ],
      "text/plain": [
       "                         Шаг  Количество пользователей  \\\n",
       "0  посещение главного экрана                      7419   \n",
       "1    посещение экрана товара                      4593   \n",
       "2          посещение корзины                      3734   \n",
       "3      экран успешной оплаты                      3539   \n",
       "\n",
       "   Доля пользователей от общего числа  Доля пользователей от прошлого шага  \n",
       "0                            0.984736                             1.000000  \n",
       "1                            0.609636                             0.619086  \n",
       "2                            0.495620                             0.812976  \n",
       "3                            0.469737                             0.947777  "
      ]
     },
     "metadata": {},
     "output_type": "display_data"
    }
   ],
   "source": [
    "funnel = []\n",
    "funnel.append(user_first_event_time[~user_first_event_time['MainScreenAppear'].isna()].shape[0])\n",
    "funnel.append(user_first_event_time[~user_first_event_time['OffersScreenAppear'].isna()].shape[0])\n",
    "funnel.append(user_first_event_time[~user_first_event_time['CartScreenAppear'].isna()].shape[0])\n",
    "funnel.append(user_first_event_time[~user_first_event_time['PaymentScreenSuccessful'].isna()].shape[0])\n",
    "\n",
    "names_funnel = ['посещение главного экрана', 'посещение экрана товара', 'посещение корзины', 'экран успешной оплаты']\n",
    "\n",
    "funnel_data = pd.DataFrame(names_funnel, columns=['Шаг'])\n",
    "funnel_data['Количество пользователей'] = funnel\n",
    "funnel_data['Доля пользователей от общего числа'] = funnel_data['Количество пользователей'] / good_users_number\n",
    "\n",
    "portion_of_prev_stage = [1]\n",
    "portion_of_prev_stage.extend(list(funnel_data['Количество пользователей'].drop(index=0)) / (funnel_data['Количество пользователей'].drop(index=3)))\n",
    "funnel_data['Доля пользователей от прошлого шага'] = portion_of_prev_stage\n",
    "display(funnel_data)"
   ]
  },
  {
   "cell_type": "markdown",
   "metadata": {},
   "source": [
    "Вывод:\n",
    "1. Больше всего пользователей мы теряем после посещения главного экрана: 38%.\n",
    "2. Почти половина пользователей (47%) совершает покупку!"
   ]
  },
  {
   "cell_type": "markdown",
   "metadata": {},
   "source": [
    "## Часть 5. Исследование результатов А/А/В теста. <a id='5'></a>"
   ]
  },
  {
   "cell_type": "markdown",
   "metadata": {},
   "source": [
    "### 1. Подготовка к исследованию теста. <a id='5.1'></a>"
   ]
  },
  {
   "cell_type": "markdown",
   "metadata": {},
   "source": [
    "Выделим таблицы с каждой из групп."
   ]
  },
  {
   "cell_type": "code",
   "execution_count": 54,
   "metadata": {},
   "outputs": [],
   "source": [
    "group_246 = logs[logs['exp_id'] == 246]\n",
    "group_247 = logs[logs['exp_id'] == 247]\n",
    "group_248 = logs[logs['exp_id'] == 248]"
   ]
  },
  {
   "cell_type": "markdown",
   "metadata": {},
   "source": [
    "Для каждой группыс"
   ]
  },
  {
   "cell_type": "markdown",
   "metadata": {},
   "source": [
    "Посчитаем количество людей в каждой группе."
   ]
  },
  {
   "cell_type": "code",
   "execution_count": 55,
   "metadata": {},
   "outputs": [
    {
     "name": "stdout",
     "output_type": "stream",
     "text": [
      "Количество людей в 246 группе: 2484.\n",
      "Количество людей в 247 группе: 2513.\n",
      "Количество людей в 248 группе: 2537.\n"
     ]
    }
   ],
   "source": [
    "n_users_in_246 = len(group_246['device_id_hash'].unique())\n",
    "n_users_in_247 = len(group_247['device_id_hash'].unique())\n",
    "n_users_in_248 = len(group_248['device_id_hash'].unique())\n",
    "\n",
    "print('Количество людей в 246 группе: {}.'.format(n_users_in_246))\n",
    "print('Количество людей в 247 группе: {}.'.format(n_users_in_247))\n",
    "print('Количество людей в 248 группе: {}.'.format(n_users_in_248))"
   ]
  },
  {
   "cell_type": "markdown",
   "metadata": {},
   "source": [
    "Для каждой группы создадим таблицу со строчками соответствующими событиям, в первом столбце количество людей, поучаствовавших в событии, а во втором - количество людей в группе."
   ]
  },
  {
   "cell_type": "code",
   "execution_count": 56,
   "metadata": {},
   "outputs": [
    {
     "data": {
      "text/html": [
       "<div>\n",
       "<style scoped>\n",
       "    .dataframe tbody tr th:only-of-type {\n",
       "        vertical-align: middle;\n",
       "    }\n",
       "\n",
       "    .dataframe tbody tr th {\n",
       "        vertical-align: top;\n",
       "    }\n",
       "\n",
       "    .dataframe thead th {\n",
       "        text-align: right;\n",
       "    }\n",
       "</style>\n",
       "<table border=\"1\" class=\"dataframe\">\n",
       "  <thead>\n",
       "    <tr style=\"text-align: right;\">\n",
       "      <th></th>\n",
       "      <th>successed</th>\n",
       "      <th>trials</th>\n",
       "      <th>portion</th>\n",
       "    </tr>\n",
       "    <tr>\n",
       "      <th>event_name</th>\n",
       "      <th></th>\n",
       "      <th></th>\n",
       "      <th></th>\n",
       "    </tr>\n",
       "  </thead>\n",
       "  <tbody>\n",
       "    <tr>\n",
       "      <td>CartScreenAppear</td>\n",
       "      <td>1266</td>\n",
       "      <td>2484</td>\n",
       "      <td>0.509662</td>\n",
       "    </tr>\n",
       "    <tr>\n",
       "      <td>MainScreenAppear</td>\n",
       "      <td>2450</td>\n",
       "      <td>2484</td>\n",
       "      <td>0.986312</td>\n",
       "    </tr>\n",
       "    <tr>\n",
       "      <td>OffersScreenAppear</td>\n",
       "      <td>1542</td>\n",
       "      <td>2484</td>\n",
       "      <td>0.620773</td>\n",
       "    </tr>\n",
       "    <tr>\n",
       "      <td>PaymentScreenSuccessful</td>\n",
       "      <td>1200</td>\n",
       "      <td>2484</td>\n",
       "      <td>0.483092</td>\n",
       "    </tr>\n",
       "    <tr>\n",
       "      <td>Tutorial</td>\n",
       "      <td>278</td>\n",
       "      <td>2484</td>\n",
       "      <td>0.111916</td>\n",
       "    </tr>\n",
       "  </tbody>\n",
       "</table>\n",
       "</div>"
      ],
      "text/plain": [
       "                         successed  trials   portion\n",
       "event_name                                          \n",
       "CartScreenAppear              1266    2484  0.509662\n",
       "MainScreenAppear              2450    2484  0.986312\n",
       "OffersScreenAppear            1542    2484  0.620773\n",
       "PaymentScreenSuccessful       1200    2484  0.483092\n",
       "Tutorial                       278    2484  0.111916"
      ]
     },
     "metadata": {},
     "output_type": "display_data"
    },
    {
     "data": {
      "text/html": [
       "<div>\n",
       "<style scoped>\n",
       "    .dataframe tbody tr th:only-of-type {\n",
       "        vertical-align: middle;\n",
       "    }\n",
       "\n",
       "    .dataframe tbody tr th {\n",
       "        vertical-align: top;\n",
       "    }\n",
       "\n",
       "    .dataframe thead th {\n",
       "        text-align: right;\n",
       "    }\n",
       "</style>\n",
       "<table border=\"1\" class=\"dataframe\">\n",
       "  <thead>\n",
       "    <tr style=\"text-align: right;\">\n",
       "      <th></th>\n",
       "      <th>successed</th>\n",
       "      <th>trials</th>\n",
       "      <th>portion</th>\n",
       "    </tr>\n",
       "    <tr>\n",
       "      <th>event_name</th>\n",
       "      <th></th>\n",
       "      <th></th>\n",
       "      <th></th>\n",
       "    </tr>\n",
       "  </thead>\n",
       "  <tbody>\n",
       "    <tr>\n",
       "      <td>CartScreenAppear</td>\n",
       "      <td>1238</td>\n",
       "      <td>2513</td>\n",
       "      <td>0.492638</td>\n",
       "    </tr>\n",
       "    <tr>\n",
       "      <td>MainScreenAppear</td>\n",
       "      <td>2476</td>\n",
       "      <td>2513</td>\n",
       "      <td>0.985277</td>\n",
       "    </tr>\n",
       "    <tr>\n",
       "      <td>OffersScreenAppear</td>\n",
       "      <td>1520</td>\n",
       "      <td>2513</td>\n",
       "      <td>0.604855</td>\n",
       "    </tr>\n",
       "    <tr>\n",
       "      <td>PaymentScreenSuccessful</td>\n",
       "      <td>1158</td>\n",
       "      <td>2513</td>\n",
       "      <td>0.460804</td>\n",
       "    </tr>\n",
       "    <tr>\n",
       "      <td>Tutorial</td>\n",
       "      <td>283</td>\n",
       "      <td>2513</td>\n",
       "      <td>0.112614</td>\n",
       "    </tr>\n",
       "  </tbody>\n",
       "</table>\n",
       "</div>"
      ],
      "text/plain": [
       "                         successed  trials   portion\n",
       "event_name                                          \n",
       "CartScreenAppear              1238    2513  0.492638\n",
       "MainScreenAppear              2476    2513  0.985277\n",
       "OffersScreenAppear            1520    2513  0.604855\n",
       "PaymentScreenSuccessful       1158    2513  0.460804\n",
       "Tutorial                       283    2513  0.112614"
      ]
     },
     "metadata": {},
     "output_type": "display_data"
    },
    {
     "data": {
      "text/html": [
       "<div>\n",
       "<style scoped>\n",
       "    .dataframe tbody tr th:only-of-type {\n",
       "        vertical-align: middle;\n",
       "    }\n",
       "\n",
       "    .dataframe tbody tr th {\n",
       "        vertical-align: top;\n",
       "    }\n",
       "\n",
       "    .dataframe thead th {\n",
       "        text-align: right;\n",
       "    }\n",
       "</style>\n",
       "<table border=\"1\" class=\"dataframe\">\n",
       "  <thead>\n",
       "    <tr style=\"text-align: right;\">\n",
       "      <th></th>\n",
       "      <th>successed</th>\n",
       "      <th>trials</th>\n",
       "      <th>portion</th>\n",
       "    </tr>\n",
       "    <tr>\n",
       "      <th>event_name</th>\n",
       "      <th></th>\n",
       "      <th></th>\n",
       "      <th></th>\n",
       "    </tr>\n",
       "  </thead>\n",
       "  <tbody>\n",
       "    <tr>\n",
       "      <td>CartScreenAppear</td>\n",
       "      <td>1230</td>\n",
       "      <td>2537</td>\n",
       "      <td>0.484825</td>\n",
       "    </tr>\n",
       "    <tr>\n",
       "      <td>MainScreenAppear</td>\n",
       "      <td>2493</td>\n",
       "      <td>2537</td>\n",
       "      <td>0.982657</td>\n",
       "    </tr>\n",
       "    <tr>\n",
       "      <td>OffersScreenAppear</td>\n",
       "      <td>1531</td>\n",
       "      <td>2537</td>\n",
       "      <td>0.603469</td>\n",
       "    </tr>\n",
       "    <tr>\n",
       "      <td>PaymentScreenSuccessful</td>\n",
       "      <td>1181</td>\n",
       "      <td>2537</td>\n",
       "      <td>0.465510</td>\n",
       "    </tr>\n",
       "    <tr>\n",
       "      <td>Tutorial</td>\n",
       "      <td>279</td>\n",
       "      <td>2537</td>\n",
       "      <td>0.109972</td>\n",
       "    </tr>\n",
       "  </tbody>\n",
       "</table>\n",
       "</div>"
      ],
      "text/plain": [
       "                         successed  trials   portion\n",
       "event_name                                          \n",
       "CartScreenAppear              1230    2537  0.484825\n",
       "MainScreenAppear              2493    2537  0.982657\n",
       "OffersScreenAppear            1531    2537  0.603469\n",
       "PaymentScreenSuccessful       1181    2537  0.465510\n",
       "Tutorial                       279    2537  0.109972"
      ]
     },
     "metadata": {},
     "output_type": "display_data"
    }
   ],
   "source": [
    "def build_for_test(group, n_users):\n",
    "    result = group.pivot_table(index='event_name', columns='exp_id', values='device_id_hash', aggfunc=pd.Series.nunique)\n",
    "    result.columns = ['successed']\n",
    "    result['trials'] = n_users\n",
    "    result['portion'] = result['successed'] / result['trials']\n",
    "    return result\n",
    "\n",
    "for_test_246 = build_for_test(group_246, n_users_in_246)\n",
    "for_test_247 = build_for_test(group_247, n_users_in_247)\n",
    "for_test_248 = build_for_test(group_248, n_users_in_248)\n",
    "\n",
    "display(for_test_246)\n",
    "display(for_test_247)\n",
    "display(for_test_248)"
   ]
  },
  {
   "cell_type": "markdown",
   "metadata": {},
   "source": [
    "Уровень значимости сделаем 0.05, но из-за того, что у нас будет 4 проверки (246 группа с 247, 246 с 248, 247 с 248, объединенная 246 и 247 с 248)  сделаем поправку Бонферрони."
   ]
  },
  {
   "cell_type": "code",
   "execution_count": 57,
   "metadata": {},
   "outputs": [],
   "source": [
    "alpha = .05 / 4"
   ]
  },
  {
   "cell_type": "markdown",
   "metadata": {},
   "source": [
    "Создадим словарь, который будет переводить названия событий с английского на русский."
   ]
  },
  {
   "cell_type": "code",
   "execution_count": 58,
   "metadata": {},
   "outputs": [],
   "source": [
    "events_dict = {\n",
    "    'MainScreenAppear': '\"Появление главного экрана\"',\n",
    "    'CartScreenAppear': '\"Появление корзины\"',\n",
    "    'OffersScreenAppear': '\"Появление экрана товара\"',\n",
    "    'PaymentScreenSuccessful': '\"Появление экрана, подтверждающего успешность покупки\"',\n",
    "    'Tutorial': '\"Обучение\"'\n",
    "}"
   ]
  },
  {
   "cell_type": "markdown",
   "metadata": {},
   "source": [
    "Создадим функцию для сравнения 2 групп."
   ]
  },
  {
   "cell_type": "code",
   "execution_count": 59,
   "metadata": {},
   "outputs": [],
   "source": [
    "events = list(logs_frequency.index)\n",
    "\n",
    "def comp_groups(data_1, data_2, group_1, group_2):\n",
    "    p_combined = (data_1['successed'] + data_2['successed']) / (data_1['trials'] + data_2['trials'])\n",
    "    difference = data_1['portion'] - data_2['portion']\n",
    "    distr = st.norm(0, 1)\n",
    "    for i in events:\n",
    "        print('Нулевая гипотеза: доля пользователей, совершивших событие',\n",
    "              events_dict[i],\n",
    "              'в группе {} равна доле пользователей, совершивших это событие в группе {}.'\n",
    "              .format(group_1, group_2)\n",
    "             )\n",
    "        print()\n",
    "        print('Альтернативная гипотеза: доля пользователей, совершивших событие',\n",
    "              events_dict[i],\n",
    "              'в группе {} не равна доле пользователей, совершивших это событие в группе {}.'\n",
    "              .format(group_1, group_2))\n",
    "        print()\n",
    "        z_value = difference[i] / mth.sqrt(p_combined[i] * (1 - p_combined[i]) * (1/data_1.loc[i, 'trials'] + 1/data_2.loc[i, 'trials']))\n",
    "        p_value = (1 - distr.cdf(abs(z_value))) * 2\n",
    "        print('p-значение: ', p_value)\n",
    "        if p_value < alpha:\n",
    "            print('Отвергаем нулевую гипотезу: между долями есть значимая разница.')\n",
    "        else:\n",
    "            print('Не получилось отвергнуть нулевую гипотезу, нет оснований считать доли разными.')\n",
    "        print()\n",
    "        print()\n",
    "        print()"
   ]
  },
  {
   "cell_type": "markdown",
   "metadata": {},
   "source": [
    "### 2. Сравнение двух контрольных групп. <a id='5.2'></a>"
   ]
  },
  {
   "cell_type": "code",
   "execution_count": 60,
   "metadata": {},
   "outputs": [
    {
     "name": "stdout",
     "output_type": "stream",
     "text": [
      "Нулевая гипотеза: доля пользователей, совершивших событие \"Появление главного экрана\" в группе 246 равна доле пользователей, совершивших это событие в группе 247.\n",
      "\n",
      "Альтернативная гипотеза: доля пользователей, совершивших событие \"Появление главного экрана\" в группе 246 не равна доле пользователей, совершивших это событие в группе 247.\n",
      "\n",
      "p-значение:  0.7570597232046099\n",
      "Не получилось отвергнуть нулевую гипотезу, нет оснований считать доли разными.\n",
      "\n",
      "\n",
      "\n",
      "Нулевая гипотеза: доля пользователей, совершивших событие \"Появление экрана товара\" в группе 246 равна доле пользователей, совершивших это событие в группе 247.\n",
      "\n",
      "Альтернативная гипотеза: доля пользователей, совершивших событие \"Появление экрана товара\" в группе 246 не равна доле пользователей, совершивших это событие в группе 247.\n",
      "\n",
      "p-значение:  0.2480954578522181\n",
      "Не получилось отвергнуть нулевую гипотезу, нет оснований считать доли разными.\n",
      "\n",
      "\n",
      "\n",
      "Нулевая гипотеза: доля пользователей, совершивших событие \"Появление корзины\" в группе 246 равна доле пользователей, совершивших это событие в группе 247.\n",
      "\n",
      "Альтернативная гипотеза: доля пользователей, совершивших событие \"Появление корзины\" в группе 246 не равна доле пользователей, совершивших это событие в группе 247.\n",
      "\n",
      "p-значение:  0.22883372237997213\n",
      "Не получилось отвергнуть нулевую гипотезу, нет оснований считать доли разными.\n",
      "\n",
      "\n",
      "\n",
      "Нулевая гипотеза: доля пользователей, совершивших событие \"Появление экрана, подтверждающего успешность покупки\" в группе 246 равна доле пользователей, совершивших это событие в группе 247.\n",
      "\n",
      "Альтернативная гипотеза: доля пользователей, совершивших событие \"Появление экрана, подтверждающего успешность покупки\" в группе 246 не равна доле пользователей, совершивших это событие в группе 247.\n",
      "\n",
      "p-значение:  0.11456679313141849\n",
      "Не получилось отвергнуть нулевую гипотезу, нет оснований считать доли разными.\n",
      "\n",
      "\n",
      "\n",
      "Нулевая гипотеза: доля пользователей, совершивших событие \"Обучение\" в группе 246 равна доле пользователей, совершивших это событие в группе 247.\n",
      "\n",
      "Альтернативная гипотеза: доля пользователей, совершивших событие \"Обучение\" в группе 246 не равна доле пользователей, совершивших это событие в группе 247.\n",
      "\n",
      "p-значение:  0.9376996189257114\n",
      "Не получилось отвергнуть нулевую гипотезу, нет оснований считать доли разными.\n",
      "\n",
      "\n",
      "\n"
     ]
    }
   ],
   "source": [
    "comp_groups(for_test_246, for_test_247, '246', '247')"
   ]
  },
  {
   "cell_type": "markdown",
   "metadata": {},
   "source": [
    "### Вывод:\n",
    "Для всех событий разница доли пользователей, совершивших событие в группе 246 и доли пользователей, совершивших событие в группе 247 статистически не значима. Это означает, что разницы между группами 246 и 247, с точки зрения статистики, нет. Поэтому, можно считать, что разбиение на группы работает корректно."
   ]
  },
  {
   "cell_type": "markdown",
   "metadata": {},
   "source": [
    "### 3. Сравнение группы с измененным шрифтом с контрольными. <a id='5.3'></a>"
   ]
  },
  {
   "cell_type": "markdown",
   "metadata": {},
   "source": [
    "Сравнение группы 248 и 246."
   ]
  },
  {
   "cell_type": "code",
   "execution_count": 61,
   "metadata": {},
   "outputs": [
    {
     "name": "stdout",
     "output_type": "stream",
     "text": [
      "Нулевая гипотеза: доля пользователей, совершивших событие \"Появление главного экрана\" в группе 246 равна доле пользователей, совершивших это событие в группе 248.\n",
      "\n",
      "Альтернативная гипотеза: доля пользователей, совершивших событие \"Появление главного экрана\" в группе 246 не равна доле пользователей, совершивших это событие в группе 248.\n",
      "\n",
      "p-значение:  0.2949721933554552\n",
      "Не получилось отвергнуть нулевую гипотезу, нет оснований считать доли разными.\n",
      "\n",
      "\n",
      "\n",
      "Нулевая гипотеза: доля пользователей, совершивших событие \"Появление экрана товара\" в группе 246 равна доле пользователей, совершивших это событие в группе 248.\n",
      "\n",
      "Альтернативная гипотеза: доля пользователей, совершивших событие \"Появление экрана товара\" в группе 246 не равна доле пользователей, совершивших это событие в группе 248.\n",
      "\n",
      "p-значение:  0.20836205402738917\n",
      "Не получилось отвергнуть нулевую гипотезу, нет оснований считать доли разными.\n",
      "\n",
      "\n",
      "\n",
      "Нулевая гипотеза: доля пользователей, совершивших событие \"Появление корзины\" в группе 246 равна доле пользователей, совершивших это событие в группе 248.\n",
      "\n",
      "Альтернативная гипотеза: доля пользователей, совершивших событие \"Появление корзины\" в группе 246 не равна доле пользователей, совершивших это событие в группе 248.\n",
      "\n",
      "p-значение:  0.07842923237520116\n",
      "Не получилось отвергнуть нулевую гипотезу, нет оснований считать доли разными.\n",
      "\n",
      "\n",
      "\n",
      "Нулевая гипотеза: доля пользователей, совершивших событие \"Появление экрана, подтверждающего успешность покупки\" в группе 246 равна доле пользователей, совершивших это событие в группе 248.\n",
      "\n",
      "Альтернативная гипотеза: доля пользователей, совершивших событие \"Появление экрана, подтверждающего успешность покупки\" в группе 246 не равна доле пользователей, совершивших это событие в группе 248.\n",
      "\n",
      "p-значение:  0.2122553275697796\n",
      "Не получилось отвергнуть нулевую гипотезу, нет оснований считать доли разными.\n",
      "\n",
      "\n",
      "\n",
      "Нулевая гипотеза: доля пользователей, совершивших событие \"Обучение\" в группе 246 равна доле пользователей, совершивших это событие в группе 248.\n",
      "\n",
      "Альтернативная гипотеза: доля пользователей, совершивших событие \"Обучение\" в группе 246 не равна доле пользователей, совершивших это событие в группе 248.\n",
      "\n",
      "p-значение:  0.8264294010087645\n",
      "Не получилось отвергнуть нулевую гипотезу, нет оснований считать доли разными.\n",
      "\n",
      "\n",
      "\n"
     ]
    }
   ],
   "source": [
    "comp_groups(for_test_246, for_test_248, '246', '248')"
   ]
  },
  {
   "cell_type": "markdown",
   "metadata": {},
   "source": [
    "Сравнение группы 248 и 247."
   ]
  },
  {
   "cell_type": "code",
   "execution_count": 62,
   "metadata": {},
   "outputs": [
    {
     "name": "stdout",
     "output_type": "stream",
     "text": [
      "Нулевая гипотеза: доля пользователей, совершивших событие \"Появление главного экрана\" в группе 247 равна доле пользователей, совершивших это событие в группе 248.\n",
      "\n",
      "Альтернативная гипотеза: доля пользователей, совершивших событие \"Появление главного экрана\" в группе 247 не равна доле пользователей, совершивших это событие в группе 248.\n",
      "\n",
      "p-значение:  0.4587053616621515\n",
      "Не получилось отвергнуть нулевую гипотезу, нет оснований считать доли разными.\n",
      "\n",
      "\n",
      "\n",
      "Нулевая гипотеза: доля пользователей, совершивших событие \"Появление экрана товара\" в группе 247 равна доле пользователей, совершивших это событие в группе 248.\n",
      "\n",
      "Альтернативная гипотеза: доля пользователей, совершивших событие \"Появление экрана товара\" в группе 247 не равна доле пользователей, совершивших это событие в группе 248.\n",
      "\n",
      "p-значение:  0.9197817830592261\n",
      "Не получилось отвергнуть нулевую гипотезу, нет оснований считать доли разными.\n",
      "\n",
      "\n",
      "\n",
      "Нулевая гипотеза: доля пользователей, совершивших событие \"Появление корзины\" в группе 247 равна доле пользователей, совершивших это событие в группе 248.\n",
      "\n",
      "Альтернативная гипотеза: доля пользователей, совершивших событие \"Появление корзины\" в группе 247 не равна доле пользователей, совершивших это событие в группе 248.\n",
      "\n",
      "p-значение:  0.5786197879539783\n",
      "Не получилось отвергнуть нулевую гипотезу, нет оснований считать доли разными.\n",
      "\n",
      "\n",
      "\n",
      "Нулевая гипотеза: доля пользователей, совершивших событие \"Появление экрана, подтверждающего успешность покупки\" в группе 247 равна доле пользователей, совершивших это событие в группе 248.\n",
      "\n",
      "Альтернативная гипотеза: доля пользователей, совершивших событие \"Появление экрана, подтверждающего успешность покупки\" в группе 247 не равна доле пользователей, совершивших это событие в группе 248.\n",
      "\n",
      "p-значение:  0.7373415053803964\n",
      "Не получилось отвергнуть нулевую гипотезу, нет оснований считать доли разными.\n",
      "\n",
      "\n",
      "\n",
      "Нулевая гипотеза: доля пользователей, совершивших событие \"Обучение\" в группе 247 равна доле пользователей, совершивших это событие в группе 248.\n",
      "\n",
      "Альтернативная гипотеза: доля пользователей, совершивших событие \"Обучение\" в группе 247 не равна доле пользователей, совершивших это событие в группе 248.\n",
      "\n",
      "p-значение:  0.765323922474501\n",
      "Не получилось отвергнуть нулевую гипотезу, нет оснований считать доли разными.\n",
      "\n",
      "\n",
      "\n"
     ]
    }
   ],
   "source": [
    "comp_groups(for_test_247, for_test_248, '247', '248')"
   ]
  },
  {
   "cell_type": "markdown",
   "metadata": {},
   "source": [
    "Сравнение группы 248 и объединения групп 246 и 247."
   ]
  },
  {
   "cell_type": "code",
   "execution_count": 63,
   "metadata": {},
   "outputs": [
    {
     "name": "stdout",
     "output_type": "stream",
     "text": [
      "Нулевая гипотеза: доля пользователей, совершивших событие \"Появление главного экрана\" в группе \"объединение 246 и 247\" равна доле пользователей, совершивших это событие в группе 248.\n",
      "\n",
      "Альтернативная гипотеза: доля пользователей, совершивших событие \"Появление главного экрана\" в группе \"объединение 246 и 247\" не равна доле пользователей, совершивших это событие в группе 248.\n",
      "\n",
      "p-значение:  0.29424526837179577\n",
      "Не получилось отвергнуть нулевую гипотезу, нет оснований считать доли разными.\n",
      "\n",
      "\n",
      "\n",
      "Нулевая гипотеза: доля пользователей, совершивших событие \"Появление экрана товара\" в группе \"объединение 246 и 247\" равна доле пользователей, совершивших это событие в группе 248.\n",
      "\n",
      "Альтернативная гипотеза: доля пользователей, совершивших событие \"Появление экрана товара\" в группе \"объединение 246 и 247\" не равна доле пользователей, совершивших это событие в группе 248.\n",
      "\n",
      "p-значение:  0.43425549655188256\n",
      "Не получилось отвергнуть нулевую гипотезу, нет оснований считать доли разными.\n",
      "\n",
      "\n",
      "\n",
      "Нулевая гипотеза: доля пользователей, совершивших событие \"Появление корзины\" в группе \"объединение 246 и 247\" равна доле пользователей, совершивших это событие в группе 248.\n",
      "\n",
      "Альтернативная гипотеза: доля пользователей, совершивших событие \"Появление корзины\" в группе \"объединение 246 и 247\" не равна доле пользователей, совершивших это событие в группе 248.\n",
      "\n",
      "p-значение:  0.18175875284404386\n",
      "Не получилось отвергнуть нулевую гипотезу, нет оснований считать доли разными.\n",
      "\n",
      "\n",
      "\n",
      "Нулевая гипотеза: доля пользователей, совершивших событие \"Появление экрана, подтверждающего успешность покупки\" в группе \"объединение 246 и 247\" равна доле пользователей, совершивших это событие в группе 248.\n",
      "\n",
      "Альтернативная гипотеза: доля пользователей, совершивших событие \"Появление экрана, подтверждающего успешность покупки\" в группе \"объединение 246 и 247\" не равна доле пользователей, совершивших это событие в группе 248.\n",
      "\n",
      "p-значение:  0.6004294282308704\n",
      "Не получилось отвергнуть нулевую гипотезу, нет оснований считать доли разными.\n",
      "\n",
      "\n",
      "\n",
      "Нулевая гипотеза: доля пользователей, совершивших событие \"Обучение\" в группе \"объединение 246 и 247\" равна доле пользователей, совершивших это событие в группе 248.\n",
      "\n",
      "Альтернативная гипотеза: доля пользователей, совершивших событие \"Обучение\" в группе \"объединение 246 и 247\" не равна доле пользователей, совершивших это событие в группе 248.\n",
      "\n",
      "p-значение:  0.764862472531507\n",
      "Не получилось отвергнуть нулевую гипотезу, нет оснований считать доли разными.\n",
      "\n",
      "\n",
      "\n"
     ]
    }
   ],
   "source": [
    "group_A_union = for_test_246 + for_test_247\n",
    "group_A_union['portion'] = group_A_union['successed'] / group_A_union['trials']\n",
    "comp_groups(group_A_union, for_test_248, '\"объединение 246 и 247\"', '248')"
   ]
  },
  {
   "cell_type": "markdown",
   "metadata": {},
   "source": [
    "### Вывод:\n",
    "Разница между группой с измененным шрифтом и контрольными статистически не значима."
   ]
  },
  {
   "cell_type": "markdown",
   "metadata": {},
   "source": [
    "## Часть 6. Вывод. <a id='6'></a>"
   ]
  },
  {
   "cell_type": "markdown",
   "metadata": {},
   "source": [
    "1. Проделанная работа:\n",
    "    1. Мы изучили общую информацию о данных.\n",
    "    2. Мы переименовали столбцы, привели данные к нужным типам, обработали дубликаты и добавили столбец с датой.\n",
    "    3. Мы изучили количество различных качественных данных, имеющихся у нас.\n",
    "    4. Мы определили период времени, за который у нас есть полный набор данных.\n",
    "    5. Мы построили и изучили воронку событий.\n",
    "    6. Мы исследовали результаты проведенного А/А/В теста.\n",
    "        \n",
    "\n",
    "2. В ходе исследования я пришел к следующим выводам:\n",
    "    1. Изучение событий:\n",
    "        1. И по частоте событий и по доле посетителей, участвовавших в событии, различные типы событий сортируются одинаково: чаще всего пользователи видят главный экран, значительно реже экран товара, еще реже корзину, еще реже экран, подтверждающий успешность покупки и реже всего - обучение.\n",
    "        2. При использовании приложения пользователи чаще всего начинают с главного экрана, потом экран товара, потом экран корзины и потом экран, подтверждающий успешность покупки. Обучение многие игнорируют.\n",
    "        1. Больше всего пользователей мы теряем после посещения главного экрана: 38%.\n",
    "        2. Почти половина пользователей (47%) совершает покупку!\n",
    "    2. Результаты А/А/В теста:\n",
    "        1. Для всех событий разница доли пользователей, совершивших событие в группе 246 и доли пользователей, совершивших событие в группе 247 статистически не значима. Это означает, что разницы между группами 246 и 247, с точки зрения статистики, нет. Поэтому, можно считать, что разбиение на группы работает корректно. \n",
    "        2. Разница между группой с измененным шрифтом и контрольными статистически не значима."
   ]
  }
 ],
 "metadata": {
  "kernelspec": {
   "display_name": "Python 3",
   "language": "python",
   "name": "python3"
  },
  "language_info": {
   "codemirror_mode": {
    "name": "ipython",
    "version": 3
   },
   "file_extension": ".py",
   "mimetype": "text/x-python",
   "name": "python",
   "nbconvert_exporter": "python",
   "pygments_lexer": "ipython3",
   "version": "3.8.3"
  },
  "toc": {
   "base_numbering": 1,
   "nav_menu": {},
   "number_sections": false,
   "sideBar": true,
   "skip_h1_title": true,
   "title_cell": "Table of Contents",
   "title_sidebar": "Contents",
   "toc_cell": false,
   "toc_position": {
    "height": "calc(100% - 180px)",
    "left": "10px",
    "top": "150px",
    "width": "366.391px"
   },
   "toc_section_display": true,
   "toc_window_display": true
  }
 },
 "nbformat": 4,
 "nbformat_minor": 4
}
